{
  "nbformat": 4,
  "nbformat_minor": 0,
  "metadata": {
    "colab": {
      "name": "BI4110ProjectCode.ipynb",
      "provenance": [],
      "collapsed_sections": []
    },
    "kernelspec": {
      "name": "python3",
      "display_name": "Python 3"
    },
    "language_info": {
      "name": "python"
    },
    "accelerator": "GPU"
  },
  "cells": [
    {
      "cell_type": "markdown",
      "source": [
        "# **Predicting Protein Secondary Structure from Amino Acid Sequences Using a Bidirectional GRU Recurrent Neural Network**"
      ],
      "metadata": {
        "id": "gmVHGY0TFEZ8"
      }
    },
    {
      "cell_type": "markdown",
      "source": [
        "In this project, I will use the following dataset to train a Bidirectional GRU RNN machine learning model to perform 8 state protein secondary structure prediction based on input amino acid sequences.\n",
        "\n",
        "Dataset: https://www.kaggle.com/datasets/tamzidhasan/protein-secondary-sequence\n",
        "\n",
        "Through doing this project, I will apply my knowledge of machine learning to concepts covered in my Molecular Genetics course."
      ],
      "metadata": {
        "id": "sIxZmcGjH_ZT"
      }
    },
    {
      "cell_type": "markdown",
      "source": [
        "**1. Importing Libraries and Reading in the Data**\n",
        "\n",
        "The libraries that are used are NumPy for matrix operations and storing data, Pyplot from Matplotlib for creating model accuracy and loss plots while training, Pandas for reading in the csv file containing the dataset as a DataFrame, and Keras from TensorFlow for processing data, defining the model's architecture and hyperparameters, compiling the model, and training it."
      ],
      "metadata": {
        "id": "8Ql08250JhiP"
      }
    },
    {
      "cell_type": "code",
      "execution_count": 1,
      "metadata": {
        "id": "NBmRKoxGWJOA"
      },
      "outputs": [],
      "source": [
        "#imports\n",
        "import numpy as np\n",
        "import matplotlib.pyplot as plt\n",
        "import tensorflow as tf\n",
        "from tensorflow import keras\n",
        "import pandas as pd\n",
        "from keras.models import Model\n",
        "from keras.layers import LSTM, Input, TimeDistributed, Dense, Activation, RepeatVector, Embedding\n",
        "from keras.losses import sparse_categorical_crossentropy\n",
        "from keras.preprocessing.text import Tokenizer"
      ]
    },
    {
      "cell_type": "markdown",
      "source": [
        "Now, I am reading in the CSV files containing the dataset as a Pandas DataFrame and displaying it. The data in the second CSV file will be used as validation data.\n",
        "\n",
        "Here is information about the data from the dataset website.\n",
        "\n",
        "**Dataset:**\n",
        "\n",
        "https://www.kaggle.com/datasets/tamzidhasan/protein-secondary-sequence\n",
        "\n",
        "**Column Abbreviations:**\n",
        "\n",
        "serial : serial number\n",
        "\n",
        "pdb_id : unique id of protein\n",
        "\n",
        "seq : primary sequence\n",
        "\n",
        "sst3 : secondary sequence H=(G,H,I); E=(B,E); C=(T,S,C)\n",
        "\n",
        "sst8 : secondary sequence (H,B,E,G,I,T,S,C)\n",
        "\n",
        "\n",
        "**Secondary Structure Labels:**\n",
        "\n",
        "C: Loops and irregular elements (corresponding to the blank characters output by DSSP)\n",
        "\n",
        "E: β-strand\n",
        "\n",
        "H: α-helix\n",
        "\n",
        "B: β-bridge\n",
        "\n",
        "G: 3-helix\n",
        "\n",
        "I: π-helix\n",
        "\n",
        "T: Turn\n",
        "\n",
        "S: Bend\n",
        "\n",
        "Three state: [H=(G,H,I); E=(B,E); C=(T,S,C)]"
      ],
      "metadata": {
        "id": "ZNcOTdtKLVgZ"
      }
    },
    {
      "cell_type": "code",
      "source": [
        "training_data_csv = pd.read_csv('/content/PDB_31-07-2011.csv')\n",
        "training_data_csv.head()"
      ],
      "metadata": {
        "colab": {
          "base_uri": "https://localhost:8080/",
          "height": 288
        },
        "id": "KvByKYuLWPhb",
        "outputId": "7eb1b3ca-c3f7-4498-edac-bf7d81494d7d"
      },
      "execution_count": 2,
      "outputs": [
        {
          "output_type": "execute_result",
          "data": {
            "text/plain": [
              "   Unnamed: 0 pdb_id                                                seq  \\\n",
              "0           0  12asA  AYIAKQRQISFVKSHFSRQLEERLGLIEVQAPILSRVGDGTQDNLS...   \n",
              "1           1  16vpA  SRMPSPPMPVPPAALFNRLLDDLGFSAGPALCTMLDTWNEDLFSAL...   \n",
              "2           2  1914A  MVLLESEQFLTELTRLFQKCRSSGSVFITLKKYDEGLEPAENKCLL...   \n",
              "3           3  1a0iA  VNIKTNPFKAVSFVESAIKKALDNAGYLIAEIKYDGVRGNICVDNT...   \n",
              "4           4  1a0pA  QDLARIEQFLDALWLEKNLAENTLNAYRRDLSMMVEWLHHRGLTLA...   \n",
              "\n",
              "                                                sst3  \\\n",
              "0  CHHHHHHHHHHHHHHHHHHHHHHHCEEECCCCCEEECCCCCCCCCC...   \n",
              "1  CCCCCCCCCCCHHHHHHHHHHHHCCCCHHHHHHHHHHCCCCCCCCC...   \n",
              "2  CCEECHHHHHHHHHHHHHHCCCCCCEEEEEEEECCCCCCCCCEEEE...   \n",
              "3  CCCCCCCEEEEECCHHHHHHHHHHHCCEEEEECCCCEEEEEEEECC...   \n",
              "4  CHHHHHHHHHHHHHHCCCCCHHHHHHHHHHHHHHHHHHHHCCCCCC...   \n",
              "\n",
              "                                                sst8  \n",
              "0  CHHHHHHHHHHHHHHHHHHHHHHHCEEECCCCSEEETTSSCSCCTT...  \n",
              "1  CCSCCCCCCCCHHHHHHHHHHHHTCTTHHHHHHHHHHCCCCCSTTS...  \n",
              "2  CCEECHHHHHHHHHHHHHHTSSSCCEEEEEEEECCCCCCCCCEEEE...  \n",
              "3  CTTCCCCEEEEECCHHHHHHHHHHHSSEEEEECCCSEEEEEEEETT...  \n",
              "4  CHHHHHHHHHHHHHHTTCSCHHHHHHHHHHHHHHHHHHHHTSCCTT...  "
            ],
            "text/html": [
              "\n",
              "  <div id=\"df-dee4b3b8-fd66-4231-8158-f17e9346a519\">\n",
              "    <div class=\"colab-df-container\">\n",
              "      <div>\n",
              "<style scoped>\n",
              "    .dataframe tbody tr th:only-of-type {\n",
              "        vertical-align: middle;\n",
              "    }\n",
              "\n",
              "    .dataframe tbody tr th {\n",
              "        vertical-align: top;\n",
              "    }\n",
              "\n",
              "    .dataframe thead th {\n",
              "        text-align: right;\n",
              "    }\n",
              "</style>\n",
              "<table border=\"1\" class=\"dataframe\">\n",
              "  <thead>\n",
              "    <tr style=\"text-align: right;\">\n",
              "      <th></th>\n",
              "      <th>Unnamed: 0</th>\n",
              "      <th>pdb_id</th>\n",
              "      <th>seq</th>\n",
              "      <th>sst3</th>\n",
              "      <th>sst8</th>\n",
              "    </tr>\n",
              "  </thead>\n",
              "  <tbody>\n",
              "    <tr>\n",
              "      <th>0</th>\n",
              "      <td>0</td>\n",
              "      <td>12asA</td>\n",
              "      <td>AYIAKQRQISFVKSHFSRQLEERLGLIEVQAPILSRVGDGTQDNLS...</td>\n",
              "      <td>CHHHHHHHHHHHHHHHHHHHHHHHCEEECCCCCEEECCCCCCCCCC...</td>\n",
              "      <td>CHHHHHHHHHHHHHHHHHHHHHHHCEEECCCCSEEETTSSCSCCTT...</td>\n",
              "    </tr>\n",
              "    <tr>\n",
              "      <th>1</th>\n",
              "      <td>1</td>\n",
              "      <td>16vpA</td>\n",
              "      <td>SRMPSPPMPVPPAALFNRLLDDLGFSAGPALCTMLDTWNEDLFSAL...</td>\n",
              "      <td>CCCCCCCCCCCHHHHHHHHHHHHCCCCHHHHHHHHHHCCCCCCCCC...</td>\n",
              "      <td>CCSCCCCCCCCHHHHHHHHHHHHTCTTHHHHHHHHHHCCCCCSTTS...</td>\n",
              "    </tr>\n",
              "    <tr>\n",
              "      <th>2</th>\n",
              "      <td>2</td>\n",
              "      <td>1914A</td>\n",
              "      <td>MVLLESEQFLTELTRLFQKCRSSGSVFITLKKYDEGLEPAENKCLL...</td>\n",
              "      <td>CCEECHHHHHHHHHHHHHHCCCCCCEEEEEEEECCCCCCCCCEEEE...</td>\n",
              "      <td>CCEECHHHHHHHHHHHHHHTSSSCCEEEEEEEECCCCCCCCCEEEE...</td>\n",
              "    </tr>\n",
              "    <tr>\n",
              "      <th>3</th>\n",
              "      <td>3</td>\n",
              "      <td>1a0iA</td>\n",
              "      <td>VNIKTNPFKAVSFVESAIKKALDNAGYLIAEIKYDGVRGNICVDNT...</td>\n",
              "      <td>CCCCCCCEEEEECCHHHHHHHHHHHCCEEEEECCCCEEEEEEEECC...</td>\n",
              "      <td>CTTCCCCEEEEECCHHHHHHHHHHHSSEEEEECCCSEEEEEEEETT...</td>\n",
              "    </tr>\n",
              "    <tr>\n",
              "      <th>4</th>\n",
              "      <td>4</td>\n",
              "      <td>1a0pA</td>\n",
              "      <td>QDLARIEQFLDALWLEKNLAENTLNAYRRDLSMMVEWLHHRGLTLA...</td>\n",
              "      <td>CHHHHHHHHHHHHHHCCCCCHHHHHHHHHHHHHHHHHHHHCCCCCC...</td>\n",
              "      <td>CHHHHHHHHHHHHHHTTCSCHHHHHHHHHHHHHHHHHHHHTSCCTT...</td>\n",
              "    </tr>\n",
              "  </tbody>\n",
              "</table>\n",
              "</div>\n",
              "      <button class=\"colab-df-convert\" onclick=\"convertToInteractive('df-dee4b3b8-fd66-4231-8158-f17e9346a519')\"\n",
              "              title=\"Convert this dataframe to an interactive table.\"\n",
              "              style=\"display:none;\">\n",
              "        \n",
              "  <svg xmlns=\"http://www.w3.org/2000/svg\" height=\"24px\"viewBox=\"0 0 24 24\"\n",
              "       width=\"24px\">\n",
              "    <path d=\"M0 0h24v24H0V0z\" fill=\"none\"/>\n",
              "    <path d=\"M18.56 5.44l.94 2.06.94-2.06 2.06-.94-2.06-.94-.94-2.06-.94 2.06-2.06.94zm-11 1L8.5 8.5l.94-2.06 2.06-.94-2.06-.94L8.5 2.5l-.94 2.06-2.06.94zm10 10l.94 2.06.94-2.06 2.06-.94-2.06-.94-.94-2.06-.94 2.06-2.06.94z\"/><path d=\"M17.41 7.96l-1.37-1.37c-.4-.4-.92-.59-1.43-.59-.52 0-1.04.2-1.43.59L10.3 9.45l-7.72 7.72c-.78.78-.78 2.05 0 2.83L4 21.41c.39.39.9.59 1.41.59.51 0 1.02-.2 1.41-.59l7.78-7.78 2.81-2.81c.8-.78.8-2.07 0-2.86zM5.41 20L4 18.59l7.72-7.72 1.47 1.35L5.41 20z\"/>\n",
              "  </svg>\n",
              "      </button>\n",
              "      \n",
              "  <style>\n",
              "    .colab-df-container {\n",
              "      display:flex;\n",
              "      flex-wrap:wrap;\n",
              "      gap: 12px;\n",
              "    }\n",
              "\n",
              "    .colab-df-convert {\n",
              "      background-color: #E8F0FE;\n",
              "      border: none;\n",
              "      border-radius: 50%;\n",
              "      cursor: pointer;\n",
              "      display: none;\n",
              "      fill: #1967D2;\n",
              "      height: 32px;\n",
              "      padding: 0 0 0 0;\n",
              "      width: 32px;\n",
              "    }\n",
              "\n",
              "    .colab-df-convert:hover {\n",
              "      background-color: #E2EBFA;\n",
              "      box-shadow: 0px 1px 2px rgba(60, 64, 67, 0.3), 0px 1px 3px 1px rgba(60, 64, 67, 0.15);\n",
              "      fill: #174EA6;\n",
              "    }\n",
              "\n",
              "    [theme=dark] .colab-df-convert {\n",
              "      background-color: #3B4455;\n",
              "      fill: #D2E3FC;\n",
              "    }\n",
              "\n",
              "    [theme=dark] .colab-df-convert:hover {\n",
              "      background-color: #434B5C;\n",
              "      box-shadow: 0px 1px 3px 1px rgba(0, 0, 0, 0.15);\n",
              "      filter: drop-shadow(0px 1px 2px rgba(0, 0, 0, 0.3));\n",
              "      fill: #FFFFFF;\n",
              "    }\n",
              "  </style>\n",
              "\n",
              "      <script>\n",
              "        const buttonEl =\n",
              "          document.querySelector('#df-dee4b3b8-fd66-4231-8158-f17e9346a519 button.colab-df-convert');\n",
              "        buttonEl.style.display =\n",
              "          google.colab.kernel.accessAllowed ? 'block' : 'none';\n",
              "\n",
              "        async function convertToInteractive(key) {\n",
              "          const element = document.querySelector('#df-dee4b3b8-fd66-4231-8158-f17e9346a519');\n",
              "          const dataTable =\n",
              "            await google.colab.kernel.invokeFunction('convertToInteractive',\n",
              "                                                     [key], {});\n",
              "          if (!dataTable) return;\n",
              "\n",
              "          const docLinkHtml = 'Like what you see? Visit the ' +\n",
              "            '<a target=\"_blank\" href=https://colab.research.google.com/notebooks/data_table.ipynb>data table notebook</a>'\n",
              "            + ' to learn more about interactive tables.';\n",
              "          element.innerHTML = '';\n",
              "          dataTable['output_type'] = 'display_data';\n",
              "          await google.colab.output.renderOutput(dataTable, element);\n",
              "          const docLink = document.createElement('div');\n",
              "          docLink.innerHTML = docLinkHtml;\n",
              "          element.appendChild(docLink);\n",
              "        }\n",
              "      </script>\n",
              "    </div>\n",
              "  </div>\n",
              "  "
            ]
          },
          "metadata": {},
          "execution_count": 2
        }
      ]
    },
    {
      "cell_type": "markdown",
      "source": [
        "**2. Data Processing**"
      ],
      "metadata": {
        "id": "mts3qtFsS_i4"
      }
    },
    {
      "cell_type": "markdown",
      "source": [
        "Now that the data is stored in the DataFrame, it must be processed before if can be fed into the model for training because the model can only take in data in a specific format.\n",
        "\n",
        "Next, I am storing the amino acid sequences and secondary structure labels for those sequences as NumPy arrays."
      ],
      "metadata": {
        "id": "6pXuT173LlBT"
      }
    },
    {
      "cell_type": "code",
      "source": [
        "training_data_input = np.array(list(training_data_csv['seq']))\n",
        "training_data_labels = np.array(list(training_data_csv['sst8']))"
      ],
      "metadata": {
        "id": "A-_tgxJcWm5d"
      },
      "execution_count": 3,
      "outputs": []
    },
    {
      "cell_type": "markdown",
      "source": [
        "These numpy arrays are storing the data in the form of Strings, but the data needs to be converted into a numerical format since the model will only take numerical values as input. To do this, a Keras text vectorization layer can be used. This layer will assign integer values to each unique character in the data. Since the training data and testing data has a different amount of unique characters, two separate layers will be used. This process is done in terms of unique characters because for the amino acid sequences, each amino acid is abbreviated as one letter, and each one of the secondary structure labels is represented as a single character as well."
      ],
      "metadata": {
        "id": "ZVtDvwYAMCg2"
      }
    },
    {
      "cell_type": "code",
      "source": [
        "input_tokenizer = tf.keras.layers.TextVectorization(\n",
        "    max_tokens=23,\n",
        "    split='character'\n",
        "    )\n",
        "\n",
        "label_tokenizer = tf.keras.layers.TextVectorization(\n",
        "    max_tokens=10,\n",
        "    split='character'\n",
        "    )"
      ],
      "metadata": {
        "id": "SKj9wszCc4EO"
      },
      "execution_count": 4,
      "outputs": []
    },
    {
      "cell_type": "markdown",
      "source": [
        "Now that the tokenizers are initialized, they must map each unique character in the two arrays to an integer and apply this mapping to convert the strings in the arrays to integer arrays. Each string will be replaced by an array of integer values, where each integer value corresponds to a character in the string."
      ],
      "metadata": {
        "id": "QkQ6Cs9kRbN_"
      }
    },
    {
      "cell_type": "code",
      "source": [
        "input_tokenizer.adapt(training_data_input)\n",
        "training_data_input = np.array(input_tokenizer(training_data_input))"
      ],
      "metadata": {
        "id": "_aVrewHPeN2v"
      },
      "execution_count": 5,
      "outputs": []
    },
    {
      "cell_type": "code",
      "source": [
        "label_tokenizer.adapt(training_data_labels)\n",
        "training_data_labels = np.array(label_tokenizer(training_data_labels))"
      ],
      "metadata": {
        "id": "OpR1wLazh0lR"
      },
      "execution_count": 6,
      "outputs": []
    },
    {
      "cell_type": "markdown",
      "source": [
        "Now, I am taking 10 percent of this data to use as validation data and another 10 percent to use as testing data. The validation data is set aside to observe how the accuracy and loss of the model changes through epochs, which is one training cycle of the entire training data. This data is used rather than the training data itself because the model fits itself to the training data, so while it may perform accurately on the training data, the model can overfit and not perform well on data it has not seen yet. Overfitting is when a model fits too much to the data it was trained on and doesn't generalize to cases it hasn't seen yet. The validation data accuracy and loss can be used to see how the model accuracy and loss changes over each epoch and can be helpful in determining how many epochs to run the model for before it starts to overfit. The testing data is used to get the final trained model accuracy. This data is used rather than the training data for the same reason."
      ],
      "metadata": {
        "id": "xIfJ6SvWc97n"
      }
    },
    {
      "cell_type": "code",
      "source": [
        "training_data_input, validation_data_input, testing_data_input = np.split(training_data_input, [int(0.8 * len(training_data_input)), int(0.9*len(training_data_input))])\n",
        "training_data_labels, validation_data_labels, testing_data_labels = np.split(training_data_labels, [int(0.8 * len(training_data_labels)), int(0.9*len(training_data_labels))])"
      ],
      "metadata": {
        "id": "uffPcWPrePX6"
      },
      "execution_count": 7,
      "outputs": []
    },
    {
      "cell_type": "markdown",
      "source": [
        "**3. Defining the Model's Architecture and Hyperparameters and Compiling the Model**"
      ],
      "metadata": {
        "id": "ME6iC_EsT1hu"
      }
    },
    {
      "cell_type": "markdown",
      "source": [
        "Now that the data is processed and ready to be fed into the model, the model's architecture and hyperparameters need to be defined. Once these are defined, the model can be compiled. A summary of the model is displayed, showing the amount of parameters for each layer and how the dimensionality of the data changes as it passes through the layers.\n",
        "\n",
        "Details about how the model works and why its specific hyperparameters were chosen are in my paper."
      ],
      "metadata": {
        "id": "6nQHmFUyVFN4"
      }
    },
    {
      "cell_type": "code",
      "source": [
        "input_sequence = Input(shape=(training_data_input[0].shape))\n",
        "embedding = Embedding(23, output_dim=128)(input_sequence)\n",
        "gru_layer = keras.layers.Bidirectional(tf.keras.layers.GRU(128, return_sequences=True, dropout=0.2, activation='tanh'))(embedding) #Change 16 to 32 if you have enough runtime resources\n",
        "\n",
        "logits = TimeDistributed(Dense(10, activation='softmax'))(gru_layer)\n",
        "model = Model(input_sequence, logits)\n",
        "\n",
        "model.compile(loss='sparse_categorical_crossentropy', optimizer='adam', metrics=None)\n",
        "\n",
        "model.summary()"
      ],
      "metadata": {
        "colab": {
          "base_uri": "https://localhost:8080/"
        },
        "id": "ioc3dRZmlM-b",
        "outputId": "fc7cf6a2-cc06-4a7d-f529-7b3236dea643"
      },
      "execution_count": 8,
      "outputs": [
        {
          "output_type": "stream",
          "name": "stdout",
          "text": [
            "Model: \"model\"\n",
            "_________________________________________________________________\n",
            " Layer (type)                Output Shape              Param #   \n",
            "=================================================================\n",
            " input_1 (InputLayer)        [(None, 2954)]            0         \n",
            "                                                                 \n",
            " embedding (Embedding)       (None, 2954, 128)         2944      \n",
            "                                                                 \n",
            " bidirectional (Bidirectiona  (None, 2954, 256)        198144    \n",
            " l)                                                              \n",
            "                                                                 \n",
            " time_distributed (TimeDistr  (None, 2954, 10)         2570      \n",
            " ibuted)                                                         \n",
            "                                                                 \n",
            "=================================================================\n",
            "Total params: 203,658\n",
            "Trainable params: 203,658\n",
            "Non-trainable params: 0\n",
            "_________________________________________________________________\n"
          ]
        }
      ]
    },
    {
      "cell_type": "markdown",
      "source": [
        "**4. Training the Model**"
      ],
      "metadata": {
        "id": "_5Ye4pqiWgGl"
      }
    },
    {
      "cell_type": "markdown",
      "source": [
        "Now that the model is compiled, it can be training with the processed data. The input will be a batch of tokenized amino acid sequences, and the output will be arrays of predicted secondary structures for those sequences.\n",
        "\n",
        "First, a custom callback function will be created to measure the accuracy of the model after each epoch using the validation data. Due to limited computational resources, a random sample of 100 sequences from the validation data will be used for this. An epoch is one training cycle of the entire training data, where the model adjusts its parameters to fit to the data to minimize the loss function, which is a measurement of how inaccurate the outputs of the model are. Then the model can be given the two arrays to train with.\n",
        "\n",
        "The two functions below are used by the callback to convert the tokenized secondary structures from the labeled data and model's predictions to Strings for viewing purposes. This allows the predicted secondary structures and actual secondary structures of a specific amino acid to be seen side by side to compare both after the model is trained."
      ],
      "metadata": {
        "id": "pc4SI3q6XABX"
      }
    },
    {
      "cell_type": "code",
      "source": [
        "def predicted_bonds(index):\n",
        "  prediction = model.predict(validation_data_input[index:index+1])\n",
        "  output = ''\n",
        "  for x in range(2954):\n",
        "    output += label_tokenizer.get_vocabulary()[np.argmax(prediction[0][x])]\n",
        "  return output"
      ],
      "metadata": {
        "id": "2_Y2L-fP-o8w"
      },
      "execution_count": 9,
      "outputs": []
    },
    {
      "cell_type": "code",
      "source": [
        "def labeled_bonds(index):\n",
        "  integer_encoded_label = validation_data_labels[index]\n",
        "  output = ''\n",
        "  for x in range(2954):\n",
        "    output += label_tokenizer.get_vocabulary()[integer_encoded_label[x]]\n",
        "  return output"
      ],
      "metadata": {
        "id": "y8h7oRaSWo29"
      },
      "execution_count": 10,
      "outputs": []
    },
    {
      "cell_type": "code",
      "source": [
        "accuracies_after_each_epoch = np.array([])\n",
        "\n",
        "def percent_accuracy(index):\n",
        "  model_prediction = predicted_bonds(index)\n",
        "  actual_bonds = labeled_bonds(index)\n",
        "  correct_predictions = 0\n",
        "  for x in range(len(model_prediction)):\n",
        "    if(model_prediction[x] == actual_bonds[x]):\n",
        "      correct_predictions += 1\n",
        "  \n",
        "  percent_correct = (correct_predictions / len(model_prediction)) * 100\n",
        "  return percent_correct\n",
        "\n",
        "class CustomCallback(keras.callbacks.Callback):\n",
        "  def on_epoch_end(self, epoch, logs=None):\n",
        "    global accuracies_after_each_epoch\n",
        "    accuracies = np.array([])\n",
        "    possible_test_indexes = np.arange(len(validation_data_input))\n",
        "    for x in np.random.choice(possible_test_indexes, 100, replace=False):\n",
        "      accuracies = np.append(accuracies, percent_accuracy(x))\n",
        "    accuracies_after_each_epoch = np.append(accuracies_after_each_epoch, np.average(accuracies))\n",
        "    print(f' - accuracy: {np.average(accuracies)}')"
      ],
      "metadata": {
        "id": "itksM46KVkQc"
      },
      "execution_count": 11,
      "outputs": []
    },
    {
      "cell_type": "code",
      "source": [
        "history = model.fit(training_data_input, training_data_labels, batch_size=16, epochs=20, validation_data=(validation_data_input, validation_data_labels), callbacks=[CustomCallback()])"
      ],
      "metadata": {
        "colab": {
          "base_uri": "https://localhost:8080/"
        },
        "id": "-U9kC69S1nBV",
        "outputId": "2a77c524-638e-4c61-f56b-d559c539204e"
      },
      "execution_count": 12,
      "outputs": [
        {
          "output_type": "stream",
          "name": "stdout",
          "text": [
            "Epoch 1/20\n",
            "881/881 [==============================] - ETA: 0s - loss: 0.1479 - accuracy: 54.407605573883984\n",
            "881/881 [==============================] - 525s 587ms/step - loss: 0.1479 - val_loss: 0.1319\n",
            "Epoch 2/20\n",
            "881/881 [==============================] - ETA: 0s - loss: 0.1118 - accuracy: 56.20809772595606\n",
            "881/881 [==============================] - 512s 582ms/step - loss: 0.1118 - val_loss: 0.1229\n",
            "Epoch 3/20\n",
            "881/881 [==============================] - ETA: 0s - loss: 0.1077 - accuracy: 55.656654366913905\n",
            "881/881 [==============================] - 514s 583ms/step - loss: 0.1077 - val_loss: 0.1205\n",
            "Epoch 4/20\n",
            "881/881 [==============================] - ETA: 0s - loss: 0.1058 - accuracy: 58.43508629156323\n",
            "881/881 [==============================] - 513s 583ms/step - loss: 0.1058 - val_loss: 0.1188\n",
            "Epoch 5/20\n",
            "881/881 [==============================] - ETA: 0s - loss: 0.1042 - accuracy: 58.90238971832505\n",
            "881/881 [==============================] - 511s 580ms/step - loss: 0.1042 - val_loss: 0.1177\n",
            "Epoch 6/20\n",
            "881/881 [==============================] - ETA: 0s - loss: 0.1033 - accuracy: 58.57484051538046\n",
            "881/881 [==============================] - 514s 584ms/step - loss: 0.1033 - val_loss: 0.1175\n",
            "Epoch 7/20\n",
            "881/881 [==============================] - ETA: 0s - loss: 0.1026 - accuracy: 60.38874034558385\n",
            "881/881 [==============================] - 512s 581ms/step - loss: 0.1026 - val_loss: 0.1170\n",
            "Epoch 8/20\n",
            "881/881 [==============================] - ETA: 0s - loss: 0.1019 - accuracy: 60.3586578394318\n",
            "881/881 [==============================] - 510s 579ms/step - loss: 0.1019 - val_loss: 0.1168\n",
            "Epoch 9/20\n",
            "881/881 [==============================] - ETA: 0s - loss: 0.1013 - accuracy: 60.39859369659156\n",
            "881/881 [==============================] - 513s 582ms/step - loss: 0.1013 - val_loss: 0.1157\n",
            "Epoch 10/20\n",
            "881/881 [==============================] - ETA: 0s - loss: 0.1009 - accuracy: 59.61043100663333\n",
            "881/881 [==============================] - 511s 581ms/step - loss: 0.1009 - val_loss: 0.1161\n",
            "Epoch 11/20\n",
            "881/881 [==============================] - ETA: 0s - loss: 0.1004 - accuracy: 59.61092844129617\n",
            "881/881 [==============================] - 510s 579ms/step - loss: 0.1004 - val_loss: 0.1155\n",
            "Epoch 12/20\n",
            "881/881 [==============================] - ETA: 0s - loss: 0.1000 - accuracy: 57.96443840909133\n",
            "881/881 [==============================] - 509s 578ms/step - loss: 0.1000 - val_loss: 0.1159\n",
            "Epoch 13/20\n",
            "881/881 [==============================] - ETA: 0s - loss: 0.0997 - accuracy: 59.69061853967007\n",
            "881/881 [==============================] - 510s 579ms/step - loss: 0.0997 - val_loss: 0.1156\n",
            "Epoch 14/20\n",
            "881/881 [==============================] - ETA: 0s - loss: 0.0993 - accuracy: 59.52022408443648\n",
            "881/881 [==============================] - 511s 580ms/step - loss: 0.0993 - val_loss: 0.1153\n",
            "Epoch 15/20\n",
            "881/881 [==============================] - ETA: 0s - loss: 0.0989 - accuracy: 59.43082530953111\n",
            "881/881 [==============================] - 507s 576ms/step - loss: 0.0989 - val_loss: 0.1156\n",
            "Epoch 16/20\n",
            "881/881 [==============================] - ETA: 0s - loss: 0.0986 - accuracy: 59.6109002775341\n",
            "881/881 [==============================] - 509s 578ms/step - loss: 0.0986 - val_loss: 0.1155\n",
            "Epoch 17/20\n",
            "881/881 [==============================] - ETA: 0s - loss: 0.0983 - accuracy: 59.78919879542802\n",
            "881/881 [==============================] - 510s 579ms/step - loss: 0.0983 - val_loss: 0.1155\n",
            "Epoch 18/20\n",
            "881/881 [==============================] - ETA: 0s - loss: 0.0980 - accuracy: 59.19842821100701\n",
            "881/881 [==============================] - 511s 580ms/step - loss: 0.0980 - val_loss: 0.1159\n",
            "Epoch 19/20\n",
            "881/881 [==============================] - ETA: 0s - loss: 0.0977 - accuracy: 60.26332968413392\n",
            "881/881 [==============================] - 512s 581ms/step - loss: 0.0977 - val_loss: 0.1155\n",
            "Epoch 20/20\n",
            "881/881 [==============================] - ETA: 0s - loss: 0.0974 - accuracy: 59.87411081783018\n",
            "881/881 [==============================] - 511s 580ms/step - loss: 0.0974 - val_loss: 0.1159\n"
          ]
        }
      ]
    },
    {
      "cell_type": "markdown",
      "source": [
        "**5. Evaluating the Model**"
      ],
      "metadata": {
        "id": "GeoQDtN6Z3Gi"
      }
    },
    {
      "cell_type": "markdown",
      "source": [
        "Here is a model accuracy vs. epoch plot:"
      ],
      "metadata": {
        "id": "M-HMmUNeYofr"
      }
    },
    {
      "cell_type": "code",
      "source": [
        "#Source for displaying this graph: https://machinelearningmastery.com/display-deep-learning-model-training-history-in-keras/\n",
        "##############################################################################################\n",
        "plt.plot(accuracies_after_each_epoch)\n",
        "plt.title('model accuracy')\n",
        "plt.ylabel('accuracy')\n",
        "plt.xlabel('epoch')\n",
        "plt.legend(['test'], loc='upper left')\n",
        "plt.savefig(\"accuracy_plot_1.png\")\n",
        "##############################################################################################"
      ],
      "metadata": {
        "id": "4S-R2JFW_ETl",
        "colab": {
          "base_uri": "https://localhost:8080/",
          "height": 295
        },
        "outputId": "26fdb75a-be2e-4690-8535-32acad1127fd"
      },
      "execution_count": 13,
      "outputs": [
        {
          "output_type": "display_data",
          "data": {
            "text/plain": [
              "<Figure size 432x288 with 1 Axes>"
            ],
            "image/png": "[encoded data removed]"
          },
          "metadata": {
            "needs_background": "light"
          }
        }
      ]
    },
    {
      "cell_type": "markdown",
      "source": [
        "Here is a model accuracy vs. loss plot:"
      ],
      "metadata": {
        "id": "A6-313qMopZs"
      }
    },
    {
      "cell_type": "code",
      "source": [
        "#Source for displaying this graph: https://machinelearningmastery.com/display-deep-learning-model-training-history-in-keras/\n",
        "##############################################################################################\n",
        "plt.clf()\n",
        "plt.plot(history.history['loss'])\n",
        "plt.plot(history.history['val_loss'])\n",
        "plt.title('model loss')\n",
        "plt.ylabel('loss')\n",
        "plt.xlabel('epoch')\n",
        "plt.legend(['train', 'test'], loc='upper left')\n",
        "plt.savefig(\"loss_plot_1.png\")\n",
        "##############################################################################################"
      ],
      "metadata": {
        "id": "qer0XK7v_KEj",
        "colab": {
          "base_uri": "https://localhost:8080/",
          "height": 295
        },
        "outputId": "0e88766c-40cc-4c3c-c61c-2830273c4ae6"
      },
      "execution_count": 14,
      "outputs": [
        {
          "output_type": "display_data",
          "data": {
            "text/plain": [
              "<Figure size 432x288 with 1 Axes>"
            ],
            "image/png": "[encoded data removed]"
          },
          "metadata": {
            "needs_background": "light"
          }
        }
      ]
    },
    {
      "cell_type": "markdown",
      "source": [
        "Now, the testing data will be used to evaluate the trained model's accuracy. A sample size of 100 from the testing data is used to calculate the model accuracy."
      ],
      "metadata": {
        "id": "TtBTXr0-jgLs"
      }
    },
    {
      "cell_type": "code",
      "source": [
        "testing_accuracies = np.array([])\n",
        "possible_testing_indexes = np.arange(len(testing_data_input))\n",
        "for x in np.random.choice(possible_testing_indexes, 100, replace=False):\n",
        "  numerical_prediction = model.predict(testing_data_input[x:x+1])\n",
        "  character_prediction = ''\n",
        "  for y in range(2954):\n",
        "    character_prediction += label_tokenizer.get_vocabulary()[np.argmax(numerical_prediction[0][y])]\n",
        "\n",
        "  integer_encoded_label = testing_data_labels[x]\n",
        "  character_label = ''\n",
        "  for y in range(2954):\n",
        "    character_label += label_tokenizer.get_vocabulary()[integer_encoded_label[y]]\n",
        "\n",
        "  correct_predictions = 0\n",
        "  for y in range(len(character_prediction)):\n",
        "    if(character_prediction[y] == character_label[y]):\n",
        "      correct_predictions += 1\n",
        "  \n",
        "  percent_accuracy = correct_predictions / len(character_prediction) * 100\n",
        "  testing_accuracies = np.append(testing_accuracies, percent_accuracy)\n",
        "\n",
        "print(f'Model Accuracy: {np.average(testing_accuracies)}')"
      ],
      "metadata": {
        "id": "Y243R9IijZkw",
        "colab": {
          "base_uri": "https://localhost:8080/"
        },
        "outputId": "56d346cd-6be6-45e1-d607-2cf8df90c004"
      },
      "execution_count": 24,
      "outputs": [
        {
          "output_type": "stream",
          "name": "stdout",
          "text": [
            "Model Accuracy: 58.704204532793895\n"
          ]
        }
      ]
    },
    {
      "cell_type": "markdown",
      "source": [
        "As shown above, the model achieved approximately 59% accuracy on 8 state prediction for the testing data. For reference, current state of the art tools achieve around 72% accuracy."
      ],
      "metadata": {
        "id": "ipUSC7AXykj4"
      }
    },
    {
      "cell_type": "markdown",
      "source": [
        "**6. Using the Model**"
      ],
      "metadata": {
        "id": "azSd0O-LZxDs"
      }
    },
    {
      "cell_type": "markdown",
      "source": [
        "Now that the model has been trained, it will be tested on a few sample cases."
      ],
      "metadata": {
        "id": "y0JMFIkxaK_Y"
      }
    },
    {
      "cell_type": "markdown",
      "source": [
        "This is the model's prediction for the secondary structure of the amino acid sequence in the first row of the DataFrame compared to its actual secondary structure:"
      ],
      "metadata": {
        "id": "mjk9gCfAbwn6"
      }
    },
    {
      "cell_type": "code",
      "source": [
        "predicted_bonds(0)"
      ],
      "metadata": {
        "id": "v1x-Lq442_Zo",
        "colab": {
          "base_uri": "https://localhost:8080/",
          "height": 53
        },
        "outputId": "153a3e01-b0e7-4b9d-9440-8e0460515673"
      },
      "execution_count": 25,
      "outputs": [
        {
          "output_type": "execute_result",
          "data": {
            "text/plain": [
              "'cccceeeeectttceeeeeeeeecttcccccceeeeecgggccchhhhhhhhhhhhhhhheeeeeccstchechhhhhhhhhhtchtchhhhhhhhhhhhhhhhhcctcctceeeeeeechhhhhhhhhhhhtcceeeeeeeccggchhhhtcttcccceeeeeccctcghhhhhhhhhhhhhhhhttcceeeeeecsccccccchtttttccctcehchhhhhhhhhhhhhhhhhhhc'"
            ],
            "application/vnd.google.colaboratory.intrinsic+json": {
              "type": "string"
            }
          },
          "metadata": {},
          "execution_count": 25
        }
      ]
    },
    {
      "cell_type": "code",
      "source": [
        "labeled_bonds(0)"
      ],
      "metadata": {
        "id": "oQz9mcl8Z4mx",
        "colab": {
          "base_uri": "https://localhost:8080/",
          "height": 53
        },
        "outputId": "f0192bcc-da59-4dae-9c17-550ca236627f"
      },
      "execution_count": 26,
      "outputs": [
        {
          "output_type": "execute_result",
          "data": {
            "text/plain": [
              "'ccceeeeeeeeetteeeeeeeeecttscsceeeeeeeccttbschhhhhhhhhhhhttceeeeccsssttcbccgggchhhhhhhhtchhhhhhhhhhhhhhhhtstteeeeeeeeeeethhhhhhhhhhhttcccseeeeescccccccttcttcccseeeeeeettcttschhhhhhhhhhhhhhtcceeeeeettccbtttcttggggccttbccchhhhhhhhhhhhhhhhhhcc'"
            ],
            "application/vnd.google.colaboratory.intrinsic+json": {
              "type": "string"
            }
          },
          "metadata": {},
          "execution_count": 26
        }
      ]
    },
    {
      "cell_type": "markdown",
      "source": [
        "This is another example for the second row:"
      ],
      "metadata": {
        "id": "f8yu2HvhcObC"
      }
    },
    {
      "cell_type": "code",
      "source": [
        "predicted_bonds(1)"
      ],
      "metadata": {
        "id": "5LeDoVsHcRs_",
        "colab": {
          "base_uri": "https://localhost:8080/",
          "height": 87
        },
        "outputId": "ed563a41-4d13-4f98-e4b1-c117f7146d2f"
      },
      "execution_count": 27,
      "outputs": [
        {
          "output_type": "execute_result",
          "data": {
            "text/plain": [
              "'ceeeeeeecechthcsteeeeeeeettcceeeehchhhhhhhhcctceeeeettteeeeeeecstchhehhhhhhhhhhhhhhhhcceeeeeeeecchhhhhhhhhhhhhtceeeeeecctccssshhhhhhhhhhhhhhhhchhhchhhhhhhhhhhhhhhhceeeectccccccchhhhhhhhhhhhhttceeeeeechhhhhhhhhhhhhhhhhhheecccceeeeeeeccgtccseeeeeetteeecttcccccccseeeeeeetttchhhhhhhhhhhhhttcceeeeeeeeccsccccghgccttseeeecttceeeeeeccsthceehhhhhhhhhhhctteeeeeeccttceeeehhhhhhhhhhchhhhhhhhhhhtccchheecthchchhhhhhhhhhhcheeecccgttthhhhhhhhhhhhhhhtcttseeeeeeccceehhtecceccttcchhhhhhhhhhhhhhhhtc'"
            ],
            "application/vnd.google.colaboratory.intrinsic+json": {
              "type": "string"
            }
          },
          "metadata": {},
          "execution_count": 27
        }
      ]
    },
    {
      "cell_type": "code",
      "source": [
        "labeled_bonds(1)"
      ],
      "metadata": {
        "id": "QqJFzWmycTiV",
        "colab": {
          "base_uri": "https://localhost:8080/",
          "height": 87
        },
        "outputId": "566288ba-f25c-4681-c2d7-0c827cdfd220"
      },
      "execution_count": 28,
      "outputs": [
        {
          "output_type": "execute_result",
          "data": {
            "text/plain": [
              "'cceeeeessctttcccseeeeeeettcccsttcschhhhhhttccssseeeetttteeeeeessschhhhhhhhhhhhhhhhtsscseeeeeecccccchhhhhhhhhhhhhhhttccccttcttccccscceeeeeeeeccchhhhhhhhhhhhhhhhhhhhhhhhhhhsctttschhhhhhhhhhhhhhhtceeeeechhhhhhttchhhhhhhttttttscceeeeeeeccsscsceeeeeeeeeeeeccttsccchhhhttggggghhhhhhhhhhhhhhhttcsseeeeeeeeeeeccsttcccttceeecttsceeecscttcchhhhhhhhhhhhhttccseeeeeeccchhhhhhhctteeeeeeschhhhhhhhhhhhhttceeeecccchhhhgggccsssseesscsssschhhhhhhhhhttschhhhtteeeeectttteesscbttbcseecctthhhhhhhhhhhhhtc'"
            ],
            "application/vnd.google.colaboratory.intrinsic+json": {
              "type": "string"
            }
          },
          "metadata": {},
          "execution_count": 28
        }
      ]
    },
    {
      "cell_type": "code",
      "source": [
        "model.save('trained_model')"
      ],
      "metadata": {
        "id": "namDE6HZTUVF",
        "colab": {
          "base_uri": "https://localhost:8080/"
        },
        "outputId": "3cfd3afe-ca8a-4d7c-c140-6e12ab788ce0"
      },
      "execution_count": 29,
      "outputs": [
        {
          "output_type": "stream",
          "name": "stderr",
          "text": [
            "WARNING:absl:Found untraced functions such as gru_cell_1_layer_call_fn, gru_cell_1_layer_call_and_return_conditional_losses, gru_cell_2_layer_call_fn, gru_cell_2_layer_call_and_return_conditional_losses while saving (showing 4 of 4). These functions will not be directly callable after loading.\n"
          ]
        },
        {
          "output_type": "stream",
          "name": "stdout",
          "text": [
            "INFO:tensorflow:Assets written to: trained_model/assets\n"
          ]
        },
        {
          "output_type": "stream",
          "name": "stderr",
          "text": [
            "INFO:tensorflow:Assets written to: trained_model/assets\n",
            "WARNING:absl:<keras.layers.recurrent.GRUCell object at 0x7f1b5474f810> has the same name 'GRUCell' as a built-in Keras object. Consider renaming <class 'keras.layers.recurrent.GRUCell'> to avoid naming conflicts when loading with `tf.keras.models.load_model`. If renaming is not possible, pass the object in the `custom_objects` parameter of the load function.\n",
            "WARNING:absl:<keras.layers.recurrent.GRUCell object at 0x7f1be04ec2d0> has the same name 'GRUCell' as a built-in Keras object. Consider renaming <class 'keras.layers.recurrent.GRUCell'> to avoid naming conflicts when loading with `tf.keras.models.load_model`. If renaming is not possible, pass the object in the `custom_objects` parameter of the load function.\n"
          ]
        }
      ]
    },
    {
      "cell_type": "markdown",
      "source": [
        "**Sources and Documentation Used:**\n",
        "\n",
        "https://keras.io/api/layers/core_layers/embedding/\n",
        "\n",
        "https://keras.io/api/layers/recurrent_layers/gru/\n",
        "\n",
        "https://keras.io/api/layers/recurrent_layers/bidirectional/\n",
        "\n",
        "https://keras.io/api/layers/recurrent_layers/time_distributed/\n",
        "\n",
        "https://www.tensorflow.org/api_docs/python/tf/keras/losses/SparseCategoricalCrossentropy\n",
        "\n",
        "https://machinelearningmastery.com/display-deep-learning-model-training-history-in-keras/\n",
        "\n",
        "https://towardsdatascience.com/how-to-build-an-encoder-decoder-translation-model-using-lstm-with-python-and-keras-a31e9d864b9b\n",
        "\n",
        "https://www.tensorflow.org/guide/keras/custom_callback\n",
        "\n",
        "**Dataset:**\n",
        "\n",
        "https://www.kaggle.com/datasets/tamzidhasan/protein-secondary-sequence"
      ],
      "metadata": {
        "id": "kwcsp3MVbcM7"
      }
    }
  ]
}